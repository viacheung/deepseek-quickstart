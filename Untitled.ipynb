{
 "cells": [
  {
   "cell_type": "code",
   "execution_count": 1,
   "id": "6c057e11-0c23-4f7d-8532-50e7650770df",
   "metadata": {},
   "outputs": [
    {
     "name": "stdout",
     "output_type": "stream",
     "text": [
      "Collecting openai==1.82.0\n",
      "  Using cached openai-1.82.0-py3-none-any.whl.metadata (25 kB)\n",
      "Requirement already satisfied: anyio<5,>=3.5.0 in /Users/zwy/anaconda3/lib/python3.11/site-packages (from openai==1.82.0) (4.2.0)\n",
      "Requirement already satisfied: distro<2,>=1.7.0 in /Users/zwy/anaconda3/lib/python3.11/site-packages (from openai==1.82.0) (1.8.0)\n",
      "Collecting httpx<1,>=0.23.0 (from openai==1.82.0)\n",
      "  Using cached httpx-0.28.1-py3-none-any.whl.metadata (7.1 kB)\n",
      "Collecting jiter<1,>=0.4.0 (from openai==1.82.0)\n",
      "  Downloading jiter-0.10.0-cp311-cp311-macosx_10_12_x86_64.whl.metadata (5.2 kB)\n",
      "Requirement already satisfied: pydantic<3,>=1.9.0 in /Users/zwy/anaconda3/lib/python3.11/site-packages (from openai==1.82.0) (1.10.12)\n",
      "Requirement already satisfied: sniffio in /Users/zwy/anaconda3/lib/python3.11/site-packages (from openai==1.82.0) (1.3.0)\n",
      "Requirement already satisfied: tqdm>4 in /Users/zwy/anaconda3/lib/python3.11/site-packages (from openai==1.82.0) (4.65.0)\n",
      "Collecting typing-extensions<5,>=4.11 (from openai==1.82.0)\n",
      "  Using cached typing_extensions-4.14.1-py3-none-any.whl.metadata (3.0 kB)\n",
      "Requirement already satisfied: idna>=2.8 in /Users/zwy/anaconda3/lib/python3.11/site-packages (from anyio<5,>=3.5.0->openai==1.82.0) (3.4)\n",
      "Requirement already satisfied: certifi in /Users/zwy/anaconda3/lib/python3.11/site-packages (from httpx<1,>=0.23.0->openai==1.82.0) (2024.2.2)\n",
      "Collecting httpcore==1.* (from httpx<1,>=0.23.0->openai==1.82.0)\n",
      "  Using cached httpcore-1.0.9-py3-none-any.whl.metadata (21 kB)\n",
      "Collecting h11>=0.16 (from httpcore==1.*->httpx<1,>=0.23.0->openai==1.82.0)\n",
      "  Using cached h11-0.16.0-py3-none-any.whl.metadata (8.3 kB)\n",
      "Using cached openai-1.82.0-py3-none-any.whl (720 kB)\n",
      "Using cached httpx-0.28.1-py3-none-any.whl (73 kB)\n",
      "Using cached httpcore-1.0.9-py3-none-any.whl (78 kB)\n",
      "Downloading jiter-0.10.0-cp311-cp311-macosx_10_12_x86_64.whl (317 kB)\n",
      "\u001b[2K   \u001b[38;2;114;156;31m━━━━━━━━━━━━━━━━━━━━━━━━━━━━━━━━━━━━━━━\u001b[0m \u001b[32m317.5/317.5 kB\u001b[0m \u001b[31m867.6 kB/s\u001b[0m eta \u001b[36m0:00:00\u001b[0mMB/s\u001b[0m eta \u001b[36m0:00:01\u001b[0m0:01\u001b[0m\n",
      "\u001b[?25hUsing cached typing_extensions-4.14.1-py3-none-any.whl (43 kB)\n",
      "Using cached h11-0.16.0-py3-none-any.whl (37 kB)\n",
      "Installing collected packages: typing-extensions, jiter, h11, httpcore, httpx, openai\n",
      "  Attempting uninstall: typing-extensions\n",
      "    Found existing installation: typing_extensions 4.9.0\n",
      "    Uninstalling typing_extensions-4.9.0:\n",
      "      Successfully uninstalled typing_extensions-4.9.0\n",
      "Successfully installed h11-0.16.0 httpcore-1.0.9 httpx-0.28.1 jiter-0.10.0 openai-1.82.0 typing-extensions-4.14.1\n"
     ]
    }
   ],
   "source": [
    "!pip install openai==1.82.0"
   ]
  },
  {
   "cell_type": "code",
   "execution_count": 1,
   "id": "ea33fffb-df15-4e8d-bacb-6e4c49b520fe",
   "metadata": {},
   "outputs": [],
   "source": [
    "import os\n",
    "from openai import OpenAI\n",
    "\n",
    "# 从环境变量获取 DeepSeek API Key\n",
    "api_key = os.getenv(\"DEEPSEEK_API_KEY\")\n",
    "if not api_key:\n",
    "    raise ValueError(\"请设置 DEEPSEEK_API_KEY 环境变量\")\n",
    "\n",
    "# 初始化 OpenAI 客户端（假设 DeepSeek 的 API 兼容 OpenAI 格式）\n",
    "client = OpenAI(\n",
    "    api_key=api_key,\n",
    "    base_url=\"https://api.deepseek.com/v1\",  # DeepSeek API 的基地址\n",
    ")\n",
    "\n",
    "# 定义提示词\n",
    "prompt = \"\"\"请帮我用 HTML 生成一个五子棋游戏，所有代码都保存在一个 HTML 中。\"\"\""
   ]
  },
  {
   "cell_type": "code",
   "execution_count": 1,
   "id": "85bd3478-91bd-4d99-b637-a9284940a75d",
   "metadata": {},
   "outputs": [
    {
     "name": "stdout",
     "output_type": "stream",
     "text": [
      "调用 API 出错: name 'client' is not defined\n"
     ]
    }
   ],
   "source": [
    "try:\n",
    "    # 调用 DeepSeek Chat API\n",
    "    response = client.chat.completions.create(\n",
    "        model=\"deepseek-chat\",  # 或 DeepSeek 提供的其他模型名称\n",
    "        messages=[\n",
    "            {\"role\": \"system\", \"content\": \"你是一个专业的 Web 开发助手，擅长用 HTML/CSS/JavaScript 编写游戏。\"},\n",
    "            {\"role\": \"user\", \"content\": prompt}\n",
    "        ],\n",
    "        temperature=0.7,\n",
    "        stream=False\n",
    "    )\n",
    "\n",
    "    # 提取生成的 HTML 内容\n",
    "    if response.choices and len(response.choices) > 0:\n",
    "        html_content = response.choices[0].message.content\n",
    "        \n",
    "        # 保存到文件\n",
    "        with open(\"gomoku.html\", \"w\", encoding=\"utf-8\") as f:\n",
    "            f.write(html_content)\n",
    "        print(\"五子棋游戏已保存为 gomoku.html\")\n",
    "    else:\n",
    "        print(\"未收到有效响应\")\n",
    "\n",
    "except Exception as e:\n",
    "    print(f\"调用 API 出错: {e}\")"
   ]
  },
  {
   "cell_type": "code",
   "execution_count": 2,
   "id": "dae0d8cb-6a49-4069-b6b6-ec67d40612de",
   "metadata": {},
   "outputs": [
    {
     "name": "stdout",
     "output_type": "stream",
     "text": [
      "🚀 开始生成五子棋游戏...\n",
      "✅ AI生成的五子棋游戏已保存为 ai_generated_gomoku.html\n",
      "📄 生成内容长度: 9814 字符\n",
      "🎮 您可以双击 ai_generated_gomoku.html 文件在浏览器中打开游戏\n",
      "\n",
      "🔍 生成内容预览:\n",
      "<!DOCTYPE html>\n",
      "<html lang=\"zh-CN\">\n",
      "<head>\n",
      "    <meta charset=\"UTF-8\">\n",
      "    <meta name=\"viewport\" content=\"width=device-width, initial-scale=1.0\">\n",
      "    <title>五子棋游戏</title>\n",
      "    <style>\n",
      "        body {\n",
      "            font-family: 'Microsoft YaHei', sans-serif;\n",
      "            display: flex;\n",
      "            flex-dir...\n"
     ]
    }
   ],
   "source": [
    "import os\n",
    "from openai import OpenAI\n",
    "\n",
    "# 1. 设置API密钥\n",
    "os.environ[\"DEEPSEEK_API_KEY\"] = \"sk-5afededb662c4b028b7c6de95489c39a\"\n",
    "\n",
    "# 2. 创建客户端\n",
    "client = OpenAI(\n",
    "    api_key=\"sk-5afededb662c4b028b7c6de95489c39a\",\n",
    "    base_url=\"https://api.deepseek.com/v1\"\n",
    ")\n",
    "\n",
    "# 3. 定义提示词\n",
    "prompt = \"\"\"\n",
    "请创建一个完整的五子棋游戏HTML文件，要求：\n",
    "1. 单文件包含所有HTML、CSS、JavaScript代码\n",
    "2. 15×15标准棋盘\n",
    "3. 黑白双方轮流下棋\n",
    "4. 自动检测五子连线获胜\n",
    "5. 包含重新开始和悔棋功能\n",
    "6. 界面美观，有木质棋盘风格\n",
    "7. 包含游戏状态显示\n",
    "请直接输出完整的HTML代码，不需要markdown格式。\n",
    "\"\"\"\n",
    "\n",
    "# 4. 调用API生成游戏\n",
    "try:\n",
    "    print(\"🚀 开始生成五子棋游戏...\")\n",
    "    \n",
    "    # 调用 DeepSeek Chat API\n",
    "    response = client.chat.completions.create(\n",
    "        model=\"deepseek-chat\",\n",
    "        messages=[\n",
    "            {\"role\": \"system\", \"content\": \"你是一个专业的 Web 开发助手，擅长用 HTML/CSS/JavaScript 编写游戏。请直接输出HTML代码，不要使用markdown格式。\"},\n",
    "            {\"role\": \"user\", \"content\": prompt}\n",
    "        ],\n",
    "        temperature=0.7,\n",
    "        max_tokens=3000  # 增加token限制以确保完整输出\n",
    "    )\n",
    "\n",
    "    # 提取生成的 HTML 内容\n",
    "    if response.choices and len(response.choices) > 0:\n",
    "        html_content = response.choices[0].message.content\n",
    "        \n",
    "        # 清理可能的markdown格式\n",
    "        if html_content.startswith(\"```html\"):\n",
    "            html_content = html_content.replace(\"```html\", \"\").replace(\"```\", \"\").strip()\n",
    "        \n",
    "        # 保存到文件\n",
    "        with open(\"ai_generated_gomoku.html\", \"w\", encoding=\"utf-8\") as f:\n",
    "            f.write(html_content)\n",
    "        \n",
    "        print(\"✅ AI生成的五子棋游戏已保存为 ai_generated_gomoku.html\")\n",
    "        print(f\"📄 生成内容长度: {len(html_content)} 字符\")\n",
    "        print(\"🎮 您可以双击 ai_generated_gomoku.html 文件在浏览器中打开游戏\")\n",
    "        \n",
    "        # 显示生成内容的开头部分\n",
    "        print(\"\\n🔍 生成内容预览:\")\n",
    "        print(html_content[:300] + \"...\" if len(html_content) > 300 else html_content)\n",
    "        \n",
    "    else:\n",
    "        print(\"❌ 未收到有效响应\")\n",
    "\n",
    "except Exception as e:\n",
    "    print(f\"❌ 调用 API 出错: {e}\")\n",
    "    print(\"🔧 请检查:\")\n",
    "    print(\"1. API密钥是否正确\")\n",
    "    print(\"2. 网络连接是否正常\")\n",
    "    print(\"3. DeepSeek账户余额是否充足\")"
   ]
  },
  {
   "cell_type": "code",
   "execution_count": 5,
   "id": "a9b8fd9b-47f5-4343-b3c9-a019b5aeed82",
   "metadata": {},
   "outputs": [],
   "source": [
    "import os\n",
    "from openai import OpenAI\n",
    "\n",
    "# 从环境变量获取 DeepSeek API Key\n",
    "api_key = os.getenv(\"DEEPSEEK_API_KEY\")\n",
    "if not api_key:\n",
    "    raise ValueError(\"请设置 DEEPSEEK_API_KEY 环境变量\")\n",
    "\n",
    "# 初始化 OpenAI 客户端（假设 DeepSeek 的 API 兼容 OpenAI 格式）\n",
    "client = OpenAI(\n",
    "    api_key=api_key,\n",
    "    base_url=\"https://api.deepseek.com/v1\",  # DeepSeek API 的基地址\n",
    ")\n",
    "\n",
    "# 定义提示词\n",
    "prompt = \"\"\"请帮我用 HTML 生成一个五子棋游戏，所有代码都保存在一个 HTML 中。\"\"\""
   ]
  },
  {
   "cell_type": "code",
   "execution_count": 6,
   "id": "3a68dccb-e78d-4ef1-93c3-1b8860e0235e",
   "metadata": {},
   "outputs": [
    {
     "name": "stdout",
     "output_type": "stream",
     "text": [
      "五子棋游戏已保存为 gomoku.html\n"
     ]
    }
   ],
   "source": [
    "try:\n",
    "    # 调用 DeepSeek Chat API\n",
    "    response = client.chat.completions.create(\n",
    "        model=\"deepseek-chat\",  # 或 DeepSeek 提供的其他模型名称\n",
    "        messages=[\n",
    "            {\"role\": \"system\", \"content\": \"你是一个专业的 Web 开发助手，擅长用 HTML/CSS/JavaScript 编写游戏。\"},\n",
    "            {\"role\": \"user\", \"content\": prompt}\n",
    "        ],\n",
    "        temperature=0.7,\n",
    "        stream=False\n",
    "    )\n",
    "\n",
    "    # 提取生成的 HTML 内容\n",
    "    if response.choices and len(response.choices) > 0:\n",
    "        html_content = response.choices[0].message.content\n",
    "        \n",
    "        # 保存到文件\n",
    "        with open(\"gomoku.html\", \"w\", encoding=\"utf-8\") as f:\n",
    "            f.write(html_content)\n",
    "        print(\"五子棋游戏已保存为 gomoku.html\")\n",
    "    else:\n",
    "        print(\"未收到有效响应\")\n",
    "\n",
    "except Exception as e:\n",
    "    print(f\"调用 API 出错: {e}\")"
   ]
  },
  {
   "cell_type": "code",
   "execution_count": null,
   "id": "88827fe6-1f80-481a-b562-20e9c5e12950",
   "metadata": {},
   "outputs": [],
   "source": []
  }
 ],
 "metadata": {
  "kernelspec": {
   "display_name": "Python (deepseek)",
   "language": "python",
   "name": "deepseek"
  },
  "language_info": {
   "codemirror_mode": {
    "name": "ipython",
    "version": 3
   },
   "file_extension": ".py",
   "mimetype": "text/x-python",
   "name": "python",
   "nbconvert_exporter": "python",
   "pygments_lexer": "ipython3",
   "version": "3.13.5"
  }
 },
 "nbformat": 4,
 "nbformat_minor": 5
}
